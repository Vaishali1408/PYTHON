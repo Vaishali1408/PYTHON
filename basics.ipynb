{
  "nbformat": 4,
  "nbformat_minor": 0,
  "metadata": {
    "colab": {
      "name": "basics.ipynb",
      "provenance": [],
      "collapsed_sections": []
    },
    "kernelspec": {
      "name": "python3",
      "display_name": "Python 3"
    },
    "language_info": {
      "name": "python"
    }
  },
  "cells": [
    {
      "cell_type": "code",
      "metadata": {
        "colab": {
          "base_uri": "https://localhost:8080/"
        },
        "id": "Jja-C2evG_NL",
        "outputId": "d73f05c9-ac12-451b-a6ba-7ce32dd2a1c1"
      },
      "source": [
        "#concatenation of string\n",
        "\n",
        "a='mobile'\n",
        "b=' phone'\n",
        "\n",
        "print(a+b)\n"
      ],
      "execution_count": null,
      "outputs": [
        {
          "output_type": "stream",
          "text": [
            "mobile phone\n"
          ],
          "name": "stdout"
        }
      ]
    },
    {
      "cell_type": "code",
      "metadata": {
        "colab": {
          "base_uri": "https://localhost:8080/",
          "height": 35
        },
        "id": "7KZyTwuHIB1P",
        "outputId": "f8d21833-45f4-4b08-aca4-9656f966ed9d"
      },
      "source": [
        "#indexing of string \n",
        "\n",
        "a='laptop'\n",
        "\n",
        "a[3]\n",
        "a[-2]"
      ],
      "execution_count": null,
      "outputs": [
        {
          "output_type": "execute_result",
          "data": {
            "application/vnd.google.colaboratory.intrinsic+json": {
              "type": "string"
            },
            "text/plain": [
              "'o'"
            ]
          },
          "metadata": {
            "tags": []
          },
          "execution_count": 4
        }
      ]
    },
    {
      "cell_type": "code",
      "metadata": {
        "colab": {
          "base_uri": "https://localhost:8080/",
          "height": 35
        },
        "id": "Ra8KzUtZInEq",
        "outputId": "422a47aa-e6ba-442d-c515-fa06619972bb"
      },
      "source": [
        "#slicing of string\n",
        "\n",
        "b='tubelight'\n",
        "b[2:]"
      ],
      "execution_count": null,
      "outputs": [
        {
          "output_type": "execute_result",
          "data": {
            "application/vnd.google.colaboratory.intrinsic+json": {
              "type": "string"
            },
            "text/plain": [
              "'belight'"
            ]
          },
          "metadata": {
            "tags": []
          },
          "execution_count": 6
        }
      ]
    },
    {
      "cell_type": "code",
      "metadata": {
        "colab": {
          "base_uri": "https://localhost:8080/",
          "height": 35
        },
        "id": "ekDn_kiLJOl6",
        "outputId": "63ed3210-ce91-46a6-dbed-9a5f5e0bbb52"
      },
      "source": [
        "p='UNITED NATIONS'\n",
        "\n",
        "p[1:5]"
      ],
      "execution_count": null,
      "outputs": [
        {
          "output_type": "execute_result",
          "data": {
            "application/vnd.google.colaboratory.intrinsic+json": {
              "type": "string"
            },
            "text/plain": [
              "'NITE'"
            ]
          },
          "metadata": {
            "tags": []
          },
          "execution_count": 13
        }
      ]
    },
    {
      "cell_type": "code",
      "metadata": {
        "colab": {
          "base_uri": "https://localhost:8080/"
        },
        "id": "_9mQ_fLGJ-rV",
        "outputId": "cbd79da0-d3f0-49b8-97cf-699270a645c2"
      },
      "source": [
        "#concatenation of list \n",
        "\n",
        "L1=['India', 'China', 'USA']\n",
        "L2=['Delhi', 'Shanghai', 'New York']\n",
        "\n",
        "print(L1+L2)"
      ],
      "execution_count": null,
      "outputs": [
        {
          "output_type": "stream",
          "text": [
            "['India', 'China', 'USA', 'Delhi', 'Shanghai', 'New York']\n"
          ],
          "name": "stdout"
        }
      ]
    },
    {
      "cell_type": "code",
      "metadata": {
        "colab": {
          "base_uri": "https://localhost:8080/",
          "height": 35
        },
        "id": "s0W8TE0HKg1l",
        "outputId": "a6d3a9e0-67bb-48d8-9b72-adf314cf2738"
      },
      "source": [
        "#Indexing of list\n",
        "\n",
        "L1=['India', 'China', 'USA']\n",
        "\n",
        "L1[1]"
      ],
      "execution_count": null,
      "outputs": [
        {
          "output_type": "execute_result",
          "data": {
            "application/vnd.google.colaboratory.intrinsic+json": {
              "type": "string"
            },
            "text/plain": [
              "'China'"
            ]
          },
          "metadata": {
            "tags": []
          },
          "execution_count": 3
        }
      ]
    },
    {
      "cell_type": "code",
      "metadata": {
        "colab": {
          "base_uri": "https://localhost:8080/",
          "height": 35
        },
        "id": "lSO0L6-WK0Xd",
        "outputId": "99ba1f3e-542c-422e-f874-c31fa9430eb5"
      },
      "source": [
        "L1[-2]"
      ],
      "execution_count": null,
      "outputs": [
        {
          "output_type": "execute_result",
          "data": {
            "application/vnd.google.colaboratory.intrinsic+json": {
              "type": "string"
            },
            "text/plain": [
              "'China'"
            ]
          },
          "metadata": {
            "tags": []
          },
          "execution_count": 4
        }
      ]
    },
    {
      "cell_type": "code",
      "metadata": {
        "colab": {
          "base_uri": "https://localhost:8080/"
        },
        "id": "G_AqG_hUK39j",
        "outputId": "a3ed8368-2c23-430c-a290-9dd56aef07f2"
      },
      "source": [
        "#Slicing of list\n",
        "\n",
        "L1=['INDIA', ' CHINA', 'USA']\n",
        "\n",
        "L1[0:2]"
      ],
      "execution_count": null,
      "outputs": [
        {
          "output_type": "execute_result",
          "data": {
            "text/plain": [
              "['INDIA', ' CHINA']"
            ]
          },
          "metadata": {
            "tags": []
          },
          "execution_count": 5
        }
      ]
    },
    {
      "cell_type": "code",
      "metadata": {
        "colab": {
          "base_uri": "https://localhost:8080/"
        },
        "id": "zP3bRDk8LT3q",
        "outputId": "561ba56b-3a59-4e98-b2bf-6087908ad5d4"
      },
      "source": [
        "L1[0:]"
      ],
      "execution_count": null,
      "outputs": [
        {
          "output_type": "execute_result",
          "data": {
            "text/plain": [
              "['INDIA', ' CHINA', 'USA']"
            ]
          },
          "metadata": {
            "tags": []
          },
          "execution_count": 6
        }
      ]
    },
    {
      "cell_type": "code",
      "metadata": {
        "colab": {
          "base_uri": "https://localhost:8080/",
          "height": 35
        },
        "id": "meA6QfO-LXsh",
        "outputId": "264f8c7e-f81e-4d49-bb1e-4e70542a75c1"
      },
      "source": [
        "L1[-1]"
      ],
      "execution_count": null,
      "outputs": [
        {
          "output_type": "execute_result",
          "data": {
            "application/vnd.google.colaboratory.intrinsic+json": {
              "type": "string"
            },
            "text/plain": [
              "'USA'"
            ]
          },
          "metadata": {
            "tags": []
          },
          "execution_count": 7
        }
      ]
    },
    {
      "cell_type": "code",
      "metadata": {
        "colab": {
          "base_uri": "https://localhost:8080/"
        },
        "id": "9Kbe-9trLoe8",
        "outputId": "89472b77-092a-4a5d-a623-0f848e37d285"
      },
      "source": [
        "#NESTED LIST\n",
        "\n",
        "L1=['INDIA', 'CHINA', 'USA',['RAW', 'M16', 'ICGB']]\n",
        "\n",
        "L1[1:3:-1]"
      ],
      "execution_count": null,
      "outputs": [
        {
          "output_type": "stream",
          "text": [
            "['INDIA', 'CHINA', 'USA', ['RAW', 'M16', 'ICGB']]\n"
          ],
          "name": "stdout"
        }
      ]
    },
    {
      "cell_type": "code",
      "metadata": {
        "colab": {
          "base_uri": "https://localhost:8080/"
        },
        "id": "YJTW3_ibN1Li",
        "outputId": "660e1754-d922-4bf0-ca19-f21b6bca8b0c"
      },
      "source": [
        "L1[3] [1:]"
      ],
      "execution_count": null,
      "outputs": [
        {
          "output_type": "execute_result",
          "data": {
            "text/plain": [
              "['M16', 'ICGB']"
            ]
          },
          "metadata": {
            "tags": []
          },
          "execution_count": 14
        }
      ]
    }
  ]
}