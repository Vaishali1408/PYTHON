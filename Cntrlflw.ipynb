{
  "nbformat": 4,
  "nbformat_minor": 0,
  "metadata": {
    "colab": {
      "name": "Cntrlflw.ipynb",
      "provenance": [],
      "collapsed_sections": []
    },
    "kernelspec": {
      "name": "python3",
      "display_name": "Python 3"
    },
    "language_info": {
      "name": "python"
    }
  },
  "cells": [
    {
      "cell_type": "code",
      "metadata": {
        "colab": {
          "base_uri": "https://localhost:8080/"
        },
        "id": "37NfwdF670aN",
        "outputId": "59c64068-46d7-4302-d81e-c4e53c769b92"
      },
      "source": [
        "#cntrl flw\n",
        "\n",
        "x=input('enter the number')\n",
        "\n",
        "y=input('enter the number')\n",
        "\n",
        "if x>y :\n",
        "      print('x is greater')\n",
        "else:\n",
        "      print('y is greater')\n",
        "         "
      ],
      "execution_count": null,
      "outputs": [
        {
          "output_type": "stream",
          "text": [
            "enter the number12\n",
            "enter the number11\n",
            "x is greater\n"
          ],
          "name": "stdout"
        }
      ]
    },
    {
      "cell_type": "code",
      "metadata": {
        "colab": {
          "base_uri": "https://localhost:8080/"
        },
        "id": "ncxv9VqY9UyN",
        "outputId": "abc5c15d-289f-4300-a84b-3fbf1df5ec34"
      },
      "source": [
        "age=int(input('enter age of person'))\n",
        "\n",
        "if age<=4:\n",
        "  print('Fee is 0 INR')\n",
        "\n",
        "elif 5<=age<18:\n",
        "   print('Fee is 100 INR') \n",
        "\n",
        "else:\n",
        "   print('Fee is 150 INR')  "
      ],
      "execution_count": null,
      "outputs": [
        {
          "output_type": "stream",
          "text": [
            "enter age of person18\n",
            "Fee is 150 INR\n"
          ],
          "name": "stdout"
        }
      ]
    },
    {
      "cell_type": "code",
      "metadata": {
        "colab": {
          "base_uri": "https://localhost:8080/"
        },
        "id": "IO1TFxRR9OBk",
        "outputId": "6dc80df0-1b62-4fc9-8122-c60741b83a59"
      },
      "source": [
        "#NESTED IF\n",
        "\n",
        "a=int(input('enter a number'))\n",
        "\n",
        "if a>10:\n",
        "  if a>20:\n",
        "   print('a is greater than 20')\n",
        "  else:\n",
        "    print('a>10 but less than 20')\n",
        "\n",
        "else:\n",
        "   print('a is less than 10')   "
      ],
      "execution_count": null,
      "outputs": [
        {
          "output_type": "stream",
          "text": [
            "enter a number45\n",
            "a is greater than 20\n"
          ],
          "name": "stdout"
        }
      ]
    },
    {
      "cell_type": "code",
      "metadata": {
        "colab": {
          "base_uri": "https://localhost:8080/"
        },
        "id": "JIONlOxSAZeT",
        "outputId": "3aa81542-1237-4dd0-e5ee-5066741a9833"
      },
      "source": [
        "#BREAK & PASS\n",
        "\n",
        "x=input('enter a number')\n",
        "\n",
        "y=input('enter a number')\n",
        "\n",
        "if x>y:\n",
        "  pass\n",
        "else:\n",
        "  print('y>x') \n"
      ],
      "execution_count": null,
      "outputs": [
        {
          "output_type": "stream",
          "text": [
            "enter a number12\n",
            "enter a number25\n",
            "y>x\n"
          ],
          "name": "stdout"
        }
      ]
    },
    {
      "cell_type": "markdown",
      "metadata": {
        "id": "i8s2n6ykCJNf"
      },
      "source": [
        "take a no from user and check whether it is +ve or -ve"
      ]
    },
    {
      "cell_type": "code",
      "metadata": {
        "colab": {
          "base_uri": "https://localhost:8080/"
        },
        "id": "RFWwgSkYCPzJ",
        "outputId": "4a3c9edb-bedb-46b3-9e3c-11de032111a5"
      },
      "source": [
        "x=int(input('enter a number'))\n",
        "\n",
        "if x<=0:\n",
        "  print('no is negative')\n",
        "\n",
        "  if x>0:\n",
        "     print('no is positive')\n",
        "  else:\n",
        "     print('no is zero')  "
      ],
      "execution_count": null,
      "outputs": [
        {
          "output_type": "stream",
          "text": [
            "enter a number-1\n",
            "no is negative\n",
            "no is zero\n"
          ],
          "name": "stdout"
        }
      ]
    },
    {
      "cell_type": "code",
      "metadata": {
        "id": "owUbyOF2BkGl"
      },
      "source": [
        "#LOGICAL OPERATORS\n",
        "\n",
        "a=12\n",
        "b=7\n",
        "c=3\n",
        "\n",
        "x:a>b\n",
        "y:c>a"
      ],
      "execution_count": null,
      "outputs": []
    }
  ]
}